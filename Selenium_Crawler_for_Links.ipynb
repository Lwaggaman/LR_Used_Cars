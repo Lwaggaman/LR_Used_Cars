{
 "cells": [
  {
   "cell_type": "code",
   "execution_count": 1,
   "id": "1000f8d6",
   "metadata": {},
   "outputs": [],
   "source": [
    "import os\n",
    "from selenium import webdriver\n",
    "from bs4 import BeautifulSoup as bs\n",
    "import pandas as pd\n",
    "import time, random"
   ]
  },
  {
   "cell_type": "code",
   "execution_count": 2,
   "id": "fa67bd7e",
   "metadata": {},
   "outputs": [],
   "source": [
    "chromedriver = '/Users/lw/Desktop/chromedriver'\n",
    "os.environ['webdriver.chrome.driver'] = \\\n",
    "        chromedriver\n",
    "driver = webdriver.Chrome(chromedriver)"
   ]
  },
  {
   "cell_type": "code",
   "execution_count": 3,
   "id": "e2b4e372",
   "metadata": {},
   "outputs": [],
   "source": [
    "landing = 'https://www.autolist.com/austin-tx#sort_filter=distance:asc&price_min=5000&price_max=50000&year_min=2010&location=Austin,%20TX&latitude=30.3062979971487&longitude=-97.7551831284175&radius=50&condition[]=used&exclude_no_price=true&page=1&sort_new_cars_last=true'\n",
    "driver.get(landing)\n",
    "driver.implicitly_wait(20)         #WAITS UNTIL IT PROPERLY LOADS"
   ]
  },
  {
   "cell_type": "code",
   "execution_count": null,
   "id": "7b3ec078",
   "metadata": {},
   "outputs": [
    {
     "name": "stdout",
     "output_type": "stream",
     "text": [
      "0\n",
      "1\n",
      "2\n",
      "3\n",
      "4\n",
      "5\n",
      "6\n",
      "7\n",
      "8\n",
      "9\n",
      "10\n",
      "11\n",
      "12\n",
      "13\n",
      "14\n",
      "15\n",
      "16\n",
      "17\n",
      "18\n",
      "19\n",
      "20\n",
      "21\n",
      "22\n",
      "23\n",
      "24\n",
      "25\n",
      "26\n",
      "27\n",
      "28\n"
     ]
    }
   ],
   "source": [
    "#Scrape HTML and go to next page\n",
    "master_soups = []\n",
    "for i in range(200):\n",
    "    master_soups.append(bs(driver.page_source))\n",
    "    print(i)\n",
    "    driver.find_element_by_class_name('next').click() #Go to next page\n",
    "    time.sleep(1 + random.uniform(.5,3))"
   ]
  },
  {
   "cell_type": "code",
   "execution_count": 5,
   "id": "5d7bcca8",
   "metadata": {},
   "outputs": [],
   "source": [
    "# If we dont modify to 'noindex', the url cannot be scraped, even with Selenium\n",
    "def modify_link(link):\n",
    "    vin = link[link.rfind('=')+1:]\n",
    "    base = 'https://www.autolist.com/noindex/listings/'\n",
    "    return base+vin"
   ]
  },
  {
   "cell_type": "code",
   "execution_count": 6,
   "id": "4558c41f",
   "metadata": {},
   "outputs": [],
   "source": [
    "#Get links from HTML\n",
    "pipeline_links = []\n",
    "for master_soup in master_soups:\n",
    "    cars = master_soup.find_all(class_='AL-vehicle-item -small-md -stacked-sm -stacked-xs -popout-action')\n",
    "    links = [car['href'] for car in cars]\n",
    "    pipeline_links.extend([modify_link(link) for link in links])"
   ]
  },
  {
   "cell_type": "code",
   "execution_count": 7,
   "id": "bca0f70f",
   "metadata": {},
   "outputs": [
    {
     "data": {
      "text/plain": [
       "3809"
      ]
     },
     "execution_count": 7,
     "metadata": {},
     "output_type": "execute_result"
    }
   ],
   "source": [
    "final_links = list(set(pipeline_links))\n",
    "len(final_links)"
   ]
  },
  {
   "cell_type": "code",
   "execution_count": 8,
   "id": "fb1732a3",
   "metadata": {},
   "outputs": [],
   "source": [
    "#Save links\n",
    "import pickle\n",
    "\n",
    "with open('Data/austin_links.pkl', 'wb') as f:\n",
    "    pickle.dump(final_links, f)"
   ]
  },
  {
   "cell_type": "markdown",
   "id": "41da51af",
   "metadata": {},
   "source": [
    "Methods to go back:\n",
    "- `driver.execute_script(\"window.history.go(-1)\")`\n",
    "- `driver.back()`"
   ]
  }
 ],
 "metadata": {
  "kernelspec": {
   "display_name": "Python [conda env:metis] *",
   "language": "python",
   "name": "conda-env-metis-py"
  },
  "language_info": {
   "codemirror_mode": {
    "name": "ipython",
    "version": 3
   },
   "file_extension": ".py",
   "mimetype": "text/x-python",
   "name": "python",
   "nbconvert_exporter": "python",
   "pygments_lexer": "ipython3",
   "version": "3.9.7"
  }
 },
 "nbformat": 4,
 "nbformat_minor": 5
}
